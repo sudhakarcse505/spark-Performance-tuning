{
 "cells": [
  {
   "cell_type": "code",
   "execution_count": 15,
   "id": "4c853a47",
   "metadata": {},
   "outputs": [],
   "source": [
    "from pyspark.sql import SparkSession\n",
    "\n",
    "spark = SparkSession. \\\n",
    "    builder. \\\n",
    "    config(\"spark.ui.port\", \"0\"). \\\n",
    "    enableHiveSupport(). \\\n",
    "    appName(\"Spark Read Cmpressed Files\"). \\\n",
    "    master(\"yarn\"). \\\n",
    "    config('spark.executor.instances','3'). \\\n",
    "    config('spark.executor.memory','4g'). \\\n",
    "    config('spark.executor.cores','3'). \\\n",
    "    config('spark.dynamicAllocation.enabled','False'). \\\n",
    "    getOrCreate()"
   ]
  },
  {
   "cell_type": "code",
   "execution_count": 14,
   "id": "b330998f",
   "metadata": {},
   "outputs": [],
   "source": [
    "spark.stop()"
   ]
  },
  {
   "cell_type": "code",
   "execution_count": 16,
   "id": "6f2ffa63",
   "metadata": {},
   "outputs": [
    {
     "data": {
      "text/plain": [
       "'application_1745651200635_11279'"
      ]
     },
     "execution_count": 16,
     "metadata": {},
     "output_type": "execute_result"
    }
   ],
   "source": [
    "spark.sparkContext.applicationId"
   ]
  },
  {
   "cell_type": "code",
   "execution_count": 17,
   "id": "16d4026d",
   "metadata": {},
   "outputs": [],
   "source": [
    " #Disable AQE and Broadcast join\n",
    "\n",
    "spark.conf.set(\"spark.sql.adaptive.enabled\", False)\n",
    "spark.conf.set(\"spark.sql.adaptive.coalescePartitions.enabled\", False)\n",
    "spark.conf.set(\"spark.sql.autoBroadcastJoinThreshold\", -1)\n"
   ]
  },
  {
   "cell_type": "code",
   "execution_count": 18,
   "id": "1d1c6e9b",
   "metadata": {},
   "outputs": [],
   "source": [
    "# Read Employee one single gzip file\n",
    "schema = \"first_name string, last_name string, job_title string, dob string, email string, phone string, salary double, department_id int\"\n",
    "\n",
    "\n",
    "emp_one_gzip = spark.read.format(\"csv\").schema(schema).option(\"header\", True).load(\"BigDataset/employee_records_10GB.csv.gz\")"
   ]
  },
  {
   "cell_type": "code",
   "execution_count": 19,
   "id": "7a4f6000",
   "metadata": {},
   "outputs": [],
   "source": [
    "#Write Action\n",
    "\n",
    "emp_one_gzip.write.format(\"noop\").mode(\"overwrite\").save()"
   ]
  },
  {
   "cell_type": "code",
   "execution_count": null,
   "id": "68d808c0",
   "metadata": {},
   "outputs": [],
   "source": [
    "#result\n",
    "\n",
    "#Time taken for reading full data: 3+ mints (running)\n",
    "#No of cores used: 1 cores"
   ]
  },
  {
   "cell_type": "code",
   "execution_count": 4,
   "id": "b21db67f",
   "metadata": {},
   "outputs": [],
   "source": [
    "# Read Employee multiple gzip file\n",
    "schema = \"first_name string, last_name string, job_title string, dob string, email string, phone string, salary double, department_id int\"\n",
    "\n",
    "\n",
    "emp_multiple_gzip = spark.read.format(\"csv\").schema(schema).option(\"header\", True).load(\"datasetgzip/employee_records*.csv.gz\")"
   ]
  },
  {
   "cell_type": "code",
   "execution_count": 5,
   "id": "b70968c4",
   "metadata": {},
   "outputs": [],
   "source": [
    "#write Action\n",
    "\n",
    "emp_multiple_gzip.write.format(\"noop\").mode(\"overwrite\").save()"
   ]
  },
  {
   "cell_type": "code",
   "execution_count": null,
   "id": "eb36c8fa",
   "metadata": {},
   "outputs": [],
   "source": [
    "#result\n",
    "\n",
    "#Time taken for reading full data: 4 sec\n",
    "#No of cores used: 4 cores -> 1 core for one file"
   ]
  },
  {
   "cell_type": "code",
   "execution_count": 6,
   "id": "97f35fef",
   "metadata": {},
   "outputs": [],
   "source": [
    "# Read Employee unzip + csv file\n",
    "schema = \"first_name string, last_name string, job_title string, dob string, email string, phone string, salary double, department_id int\"\n",
    "\n",
    "emp_nozip = spark.read.format(\"csv\").schema(schema).option(\"header\", True).load(\"employee_records_10GB.csv\")\n"
   ]
  },
  {
   "cell_type": "code",
   "execution_count": 7,
   "id": "284ca712",
   "metadata": {},
   "outputs": [],
   "source": [
    "#write Action\n",
    "\n",
    "emp_nozip.write.format(\"noop\").mode(\"overwrite\").save()"
   ]
  },
  {
   "cell_type": "code",
   "execution_count": null,
   "id": "54686b2e",
   "metadata": {},
   "outputs": [],
   "source": [
    "#result\n",
    "\n",
    "#Time taken for reading full data: 25 sec\n",
    "#No of cores used: 9 (88)"
   ]
  },
  {
   "cell_type": "code",
   "execution_count": 8,
   "id": "1738cf76",
   "metadata": {},
   "outputs": [],
   "source": [
    "#read same file in parquet + snappy compressd format\n",
    "\n",
    "emp_parquet_snappy = spark.read.format(\"parquet\").load(\"employee_records_10GB_parquet\")"
   ]
  },
  {
   "cell_type": "code",
   "execution_count": 9,
   "id": "e9f06c17",
   "metadata": {},
   "outputs": [],
   "source": [
    "#write Action\n",
    "\n",
    "emp_parquet_snappy.write.format(\"noop\").mode(\"overwrite\").save()"
   ]
  },
  {
   "cell_type": "code",
   "execution_count": null,
   "id": "b2aba6cf",
   "metadata": {},
   "outputs": [],
   "source": [
    "#result\n",
    "\n",
    "#Time taken for reading full data: 13 sec\n",
    "#No of cores used: 44 (9)"
   ]
  },
  {
   "cell_type": "code",
   "execution_count": 10,
   "id": "aef79b82",
   "metadata": {},
   "outputs": [],
   "source": [
    "#read same file in ORC + snappy compressd format\n",
    "\n",
    "emp_orc_snappy = spark.read.format(\"orc\").load(\"employee_records_10GB_ORC\")"
   ]
  },
  {
   "cell_type": "code",
   "execution_count": 11,
   "id": "6c6aec6a",
   "metadata": {},
   "outputs": [],
   "source": [
    "#write Action\n",
    "\n",
    "emp_orc_snappy.write.format(\"noop\").mode(\"overwrite\").save()"
   ]
  },
  {
   "cell_type": "code",
   "execution_count": null,
   "id": "6782567e",
   "metadata": {},
   "outputs": [],
   "source": [
    "#result\n",
    "\n",
    "#Time taken for reading full data: 11 sec\n",
    "#No of cores used: 9 (44)"
   ]
  },
  {
   "cell_type": "code",
   "execution_count": 20,
   "id": "5998a097",
   "metadata": {},
   "outputs": [],
   "source": [
    "spark.stop()"
   ]
  },
  {
   "cell_type": "markdown",
   "id": "cbda58ff",
   "metadata": {},
   "source": [
    "Conclusion:\n",
    "1. gizp is non spittable file format, so Use only one core to read file\n",
    "2. Snappy Parquet is Spittable format, used many cores to read file\n",
    "\n",
    "Non-Splittable compression formats:\n",
    "1. Gzip (.gz)\n",
    "2. Bzip\n",
    "3. Snappy(Raw)- SequenceFiles\n",
    "4. LZ4(Raw)\n",
    "\n",
    "Spittable Compression formats:\n",
    "1. bzip2 (.bz2)\n",
    "2. LZO (with indexing)\n",
    "3. Parquet (with Snappy)\n",
    "4. ORC (with Zlib/Snappy)\n",
    "5. Avro (with deflate/Snappy)\n",
    "\n",
    "\n"
   ]
  }
 ],
 "metadata": {
  "kernelspec": {
   "display_name": "Pyspark 3",
   "language": "python",
   "name": "pyspark3"
  },
  "language_info": {
   "codemirror_mode": {
    "name": "ipython",
    "version": 3
   },
   "file_extension": ".py",
   "mimetype": "text/x-python",
   "name": "python",
   "nbconvert_exporter": "python",
   "pygments_lexer": "ipython3",
   "version": "3.6.12"
  }
 },
 "nbformat": 4,
 "nbformat_minor": 5
}
