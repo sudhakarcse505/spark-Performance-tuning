{
 "cells": [
  {
   "cell_type": "code",
   "execution_count": null,
   "id": "677bcb94",
   "metadata": {},
   "outputs": [],
   "source": [
    "from pyspark.sql import SparkSession\n",
    "\n",
    "spark = SparkSession. \\\n",
    "    builder. \\\n",
    "    config(\"spark.ui.port\", \"0\"). \\\n",
    "    enableHiveSupport(). \\\n",
    "    appName(\"Spark GC Issues\"). \\\n",
    "    master(\"yarn\"). \\\n",
    "    config('spark.executor.instances','1'). \\\n",
    "    config('spark.executor.memory','512MB'). \\\n",
    "    config('spark.executor.cores','2'). \\\n",
    "    config('spark.driver.memory','512MB'). \\\n",
    "    config('spark.driver.cores','2'). \\\n",
    "    config('spark.dynamicAllocation.enabled','False'). \\\n",
    "    getOrCreate()"
   ]
  },
  {
   "cell_type": "code",
   "execution_count": null,
   "id": "3ec57d85",
   "metadata": {},
   "outputs": [],
   "source": [
    "spark.stop()"
   ]
  },
  {
   "cell_type": "code",
   "execution_count": 11,
   "id": "2bfedc71",
   "metadata": {},
   "outputs": [
    {
     "data": {
      "text/plain": [
       "'application_1745651200635_18582'"
      ]
     },
     "execution_count": 11,
     "metadata": {},
     "output_type": "execute_result"
    }
   ],
   "source": [
    "spark.sparkContext.applicationId"
   ]
  },
  {
   "cell_type": "code",
   "execution_count": 23,
   "id": "d19b5f66",
   "metadata": {},
   "outputs": [],
   "source": [
    " #Disable AQE and Broadcast join\n",
    "\n",
    "spark.conf.set(\"spark.sql.adaptive.enabled\", False)\n",
    "spark.conf.set(\"spark.sql.adaptive.coalescePartitions.enabled\", False)\n",
    "spark.conf.set(\"spark.sql.autoBroadcastJoinThreshold\", -1)"
   ]
  },
  {
   "cell_type": "code",
   "execution_count": 31,
   "id": "8f515b96",
   "metadata": {},
   "outputs": [],
   "source": [
    "# Create large skewed dataset\n",
    "from pyspark.sql import functions as F\n",
    "\n",
    "df1 = spark.range(0, 1_000_000_000).withColumn(\"key\", (F.rand() * 10).cast(\"int\"))  # 100M rows\n",
    "df2 = spark.range(0, 1_000).withColumnRenamed(\"id\", \"key\")\n"
   ]
  },
  {
   "cell_type": "code",
   "execution_count": 36,
   "id": "e30383aa",
   "metadata": {},
   "outputs": [],
   "source": [
    " spark.conf.set(\"spark.sql.shuffle.partitions\", \"500\") "
   ]
  },
  {
   "cell_type": "code",
   "execution_count": 37,
   "id": "17457696",
   "metadata": {},
   "outputs": [],
   "source": [
    "# Shuffle-heavy skewed join\n",
    "joined = df1.join(df2, \"key\")\n"
   ]
  },
  {
   "cell_type": "code",
   "execution_count": 38,
   "id": "5aa533f0",
   "metadata": {},
   "outputs": [],
   "source": [
    "# Add wide aggregation (forces memory usage)\n",
    "\n",
    "agg = joined.groupBy(\"key\").count()"
   ]
  },
  {
   "cell_type": "code",
   "execution_count": 39,
   "id": "3959d37d",
   "metadata": {},
   "outputs": [
    {
     "name": "stdout",
     "output_type": "stream",
     "text": [
      "+---+---------+\n",
      "|key|    count|\n",
      "+---+---------+\n",
      "|  1|100006020|\n",
      "|  6| 99999621|\n",
      "|  3|100011190|\n",
      "|  2|100000277|\n",
      "|  4| 99992545|\n",
      "|  8| 99991080|\n",
      "|  7| 99975935|\n",
      "|  0|100008685|\n",
      "|  9|100010228|\n",
      "|  5|100004419|\n",
      "+---+---------+\n",
      "\n"
     ]
    }
   ],
   "source": [
    "\n",
    "agg.show()"
   ]
  },
  {
   "cell_type": "code",
   "execution_count": 1,
   "id": "55f64873",
   "metadata": {},
   "outputs": [],
   "source": [
    "#Enable GC Logging\n",
    "#Add the following in Spark config (spark.executor.extraJavaOptions and spark.driver.extraJavaOptions):\n",
    "\n",
    "-verbose:gc -XX:+PrintGCDetails -XX:+PrintGCDateStamps -Xloggc:/path/to/gc.log\n",
    "\n"
   ]
  },
  {
   "cell_type": "code",
   "execution_count": null,
   "id": "6f8c4c7c",
   "metadata": {},
   "outputs": [],
   "source": []
  }
 ],
 "metadata": {
  "kernelspec": {
   "display_name": "Pyspark 3",
   "language": "python",
   "name": "pyspark3"
  },
  "language_info": {
   "codemirror_mode": {
    "name": "ipython",
    "version": 3
   },
   "file_extension": ".py",
   "mimetype": "text/x-python",
   "name": "python",
   "nbconvert_exporter": "python",
   "pygments_lexer": "ipython3",
   "version": "3.6.12"
  }
 },
 "nbformat": 4,
 "nbformat_minor": 5
}
